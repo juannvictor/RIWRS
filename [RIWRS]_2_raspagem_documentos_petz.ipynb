{
  "nbformat": 4,
  "nbformat_minor": 0,
  "metadata": {
    "colab": {
      "name": "Recuperação da Informação na Web e em Redes Sociais - Trilha 02",
      "provenance": [],
      "authorship_tag": "ABX9TyMD6gjymqxk4ZqOK0K5jWYM",
      "include_colab_link": true
    },
    "kernelspec": {
      "name": "python3",
      "display_name": "Python 3"
    },
    "language_info": {
      "name": "python"
    }
  },
  "cells": [
    {
      "cell_type": "markdown",
      "metadata": {
        "id": "view-in-github",
        "colab_type": "text"
      },
      "source": [
        "<a href=\"https://colab.research.google.com/github/lucianomcsilva/RIWRS/blob/main/Recupera%C3%A7%C3%A3o_da_Informa%C3%A7%C3%A3o_na_Web_e_em_Redes_Sociais_Trilha_02.ipynb\" target=\"_parent\"><img src=\"https://colab.research.google.com/assets/colab-badge.svg\" alt=\"Open In Colab\"/></a>"
      ]
    },
    {
      "cell_type": "code",
      "metadata": {
        "colab": {
          "base_uri": "https://localhost:8080/"
        },
        "id": "kZUp9za1aBcW",
        "outputId": "4e2ac833-b08d-44be-88dd-8735a7754a6f"
      },
      "source": [
        "!pip install requests"
      ],
      "execution_count": null,
      "outputs": [
        {
          "output_type": "stream",
          "name": "stdout",
          "text": [
            "Requirement already satisfied: requests in /usr/local/lib/python3.7/dist-packages (2.23.0)\n",
            "Requirement already satisfied: urllib3!=1.25.0,!=1.25.1,<1.26,>=1.21.1 in /usr/local/lib/python3.7/dist-packages (from requests) (1.24.3)\n",
            "Requirement already satisfied: chardet<4,>=3.0.2 in /usr/local/lib/python3.7/dist-packages (from requests) (3.0.4)\n",
            "Requirement already satisfied: idna<3,>=2.5 in /usr/local/lib/python3.7/dist-packages (from requests) (2.10)\n",
            "Requirement already satisfied: certifi>=2017.4.17 in /usr/local/lib/python3.7/dist-packages (from requests) (2021.10.8)\n"
          ]
        }
      ]
    },
    {
      "cell_type": "code",
      "metadata": {
        "id": "-I1mFsVSY7GE"
      },
      "source": [
        "import requests\n",
        "\t \n",
        "url = 'https://www.petz.com.br/nossas-lojas'\t\n",
        "#url = 'https://www.uol.com.br'\t\n",
        "#url = 'https://noticias.uol.com.br/service/?loadComponent=results-index&data={%22history%22:false,%22dateFormat%22:%22DD/MM/YYYY%20HH[h]mm%22,%22busca%22:{%22params%22:{%22size%22:12,%22tags%22:[{%22id%22:78586}],%22operator%22:%22AND%22,%22repository%22:%22mix2%22,%22inicio%22:null,%22fim%22:null,%22range%22:%22%22,%22next%22:%220001H264U11N%22}},%22options%22:{%22scrollLoad%22:false,%22crop%22:%22300x225%22,%22variation%22:%22list%22,%22hideAuthor%22:true,%22rulesKicker%22:true,%22hideDate%22:false,%22hideKicker%22:true,%22hideDescriptionMosaic%22:true,%22gallery%22:{%22columnEnd%22:3,%22columnClass%22:%22col-sm-8%20col-md-8%20col-lg-8%20col-xs-4%22}},%22hasNext%22:true,%22request%22:{},%22thumbnails%22:{%22list%22:true,%22alignHorizontal%22:true,%22grid%22:false,%22columns%22:%22%22},%22ads%22:{%22show%22:true,%22bp%22:{%22xs%22:%22native-tudosobre-area%22},%22lastPositionAds%22:4},%22native%22:{%22show%22:false}}&json'\n",
        "res = requests.post(url, {'uf': 'RS'})\t\n",
        "html_page = res.text\n",
        "\n",
        "print(html_page)\n"
      ],
      "execution_count": null,
      "outputs": []
    },
    {
      "cell_type": "code",
      "metadata": {
        "id": "YpSy8TUYaste"
      },
      "source": [
        "from bs4 import BeautifulSoup\t \n",
        "soup = BeautifulSoup(html_page, 'html.parser') \n",
        "soup"
      ],
      "execution_count": null,
      "outputs": []
    },
    {
      "cell_type": "code",
      "metadata": {
        "colab": {
          "base_uri": "https://localhost:8080/"
        },
        "id": "RJCvPSRWz19m",
        "outputId": "02197dfd-d035-4588-c587-54670b023059"
      },
      "source": [
        "lista = ['primeiro', 'segundo', 'terceiro', 'quinto']\n",
        "for index, item in enumerate(lista, start=10):\n",
        "  print(f\"{index} - {item}\")"
      ],
      "execution_count": 3,
      "outputs": [
        {
          "output_type": "stream",
          "name": "stdout",
          "text": [
            "10 - primeiro\n",
            "11 - segundo\n",
            "12 - terceiro\n",
            "13 - quinto\n"
          ]
        }
      ]
    },
    {
      "cell_type": "code",
      "metadata": {
        "id": "FadoR1kNfcLg",
        "colab": {
          "base_uri": "https://localhost:8080/"
        },
        "outputId": "a9a652ea-bd47-4b64-915c-b399cd7fb0e0"
      },
      "source": [
        "import re\n",
        "stores = []\n",
        "for index, store in enumerate(soup.find_all(\"div\", {\"class\": \"store\"}), start=1):\n",
        "    name = store.find(\"h2\", {\"itemprop\": \"name\"}).get_text().strip()\n",
        "    address = store.find(\"p\", {\"itemprop\": \"address\"})\n",
        "    address = address.get_text()\n",
        "    address = re.sub(' +', ' ', address)\n",
        "    address = \" \".join([s for s in address.strip().splitlines(False) if s.strip()])\n",
        "    addressLoc = store.find(\"span\", {\"itemprop\": \"addressLocality\"}).get_text().strip()\n",
        "    region = store.find(\"span\", {\"itemprop\": \"addressRegion\"}).get_text().strip()\n",
        "    telephone = store.find(\"p\", {\"itemprop\": \"telephone\"}).get_text().strip()\n",
        "    openingHours = store.find(\"p\", {\"itemprop\": \"openingHours\"}).get_text().strip()  \n",
        "    row = {\t'name': name, \t\t\t'address':address, \n",
        "\t\t'telephone': telephone, \t\t'openingHours':openingHours, \n",
        "\t\t'addressLocality': addressLoc, \t'region': region}    \n",
        "    stores.append(row) \n",
        "stores"
      ],
      "execution_count": 4,
      "outputs": [
        {
          "output_type": "execute_result",
          "data": {
            "text/plain": [
              "[{'address': 'Avenida Getúlio Vargas, 6401 Marechal Rondon - Canoas/RS CEP: 92020-020',\n",
              "  'addressLocality': 'Canoas',\n",
              "  'name': 'Petz Canoas',\n",
              "  'openingHours': 'Todos os dias - das 09:00 às 22:00',\n",
              "  'region': 'RS',\n",
              "  'telephone': '(51) 3052-0478'},\n",
              " {'address': 'Av. Eduardo Prado, 415 Cavalhada - Porto Alegre/RS CEP: 91751-000',\n",
              "  'addressLocality': 'Porto Alegre',\n",
              "  'name': 'Petz Cavalhada',\n",
              "  'openingHours': 'Todos os dias - das 09:00 às 22:00',\n",
              "  'region': 'RS',\n",
              "  'telephone': '(51) 3557-4779'},\n",
              " {'address': 'Av Rubens Bento Alves, 8457 Cinquentenário - Caxias do Sul/RS CEP: 95012-393',\n",
              "  'addressLocality': 'Caxias do Sul',\n",
              "  'name': 'Petz Caxias do Sul',\n",
              "  'openingHours': 'Todos os dias - das 09:00 às 22:00',\n",
              "  'region': 'RS',\n",
              "  'telephone': '(54) 3538-2760'},\n",
              " {'address': 'Avenida Diário de Notícias, 1500 Cristal - Porto Alegre/RS CEP: 90810-080',\n",
              "  'addressLocality': 'Porto Alegre',\n",
              "  'name': 'Petz Diário de Notícias',\n",
              "  'openingHours': 'Todos os dias - das 09:00 às 22:00',\n",
              "  'region': 'RS',\n",
              "  'telephone': '(51) 3557-4779'},\n",
              " {'address': 'Rua Quintino Bocaiúva, 433 Floresta - Porto Alegre/RS CEP: 90440-051',\n",
              "  'addressLocality': 'Porto Alegre',\n",
              "  'name': 'Petz Moinhos de Vento',\n",
              "  'openingHours': 'Todos os dias - das 09:00 às 22:00',\n",
              "  'region': 'RS',\n",
              "  'telephone': '(51) 3557-4779'},\n",
              " {'address': 'Rua Castro Alves, 205 Rio Branco - Novo Hamburgo/RS CEP: 93310-270',\n",
              "  'addressLocality': 'Novo Hamburgo',\n",
              "  'name': 'Petz Novo Hamburgo',\n",
              "  'openingHours': 'Todos os dias - das 09:00 às 22:00',\n",
              "  'region': 'RS',\n",
              "  'telephone': '(51) 3273-9229'},\n",
              " {'address': 'Avenida Ferreira Viana, 1511 Areal - Pelotas/RS CEP: 96085-000',\n",
              "  'addressLocality': 'Pelotas',\n",
              "  'name': 'Petz Pelotas',\n",
              "  'openingHours': 'Todos os dias - das 09:00 às 22:00',\n",
              "  'region': 'RS',\n",
              "  'telephone': '(53) 3026-1819'},\n",
              " {'address': 'Av. Protásio Alves, 4194  - Loja 2 Petrópolis - Porto Alegre/RS CEP: 91310-000',\n",
              "  'addressLocality': 'Porto Alegre',\n",
              "  'name': 'Petz Protásio Alves',\n",
              "  'openingHours': 'Todos os dias - das 09:00 às 22:00',\n",
              "  'region': 'RS',\n",
              "  'telephone': '(51) 3557-4779'}]"
            ]
          },
          "metadata": {},
          "execution_count": 4
        }
      ]
    },
    {
      "cell_type": "code",
      "metadata": {
        "id": "bKsjpb_N6Qgh",
        "colab": {
          "base_uri": "https://localhost:8080/"
        },
        "outputId": "3b96d6bb-bf94-443c-b57c-8b5df4f18d89"
      },
      "source": [
        "import csv\t\n",
        "keys = stores[0].keys()\t \n",
        "with open('stores2.csv', 'w', newline='')  as output_file:\t     \n",
        "\tdict_writer = csv.DictWriter(output_file, keys)\t     \n",
        "\tdict_writer.writeheader()\n",
        "\tdict_writer.writerows(stores) \n",
        "print(\"acabei\")"
      ],
      "execution_count": 5,
      "outputs": [
        {
          "output_type": "stream",
          "name": "stdout",
          "text": [
            "acabei\n"
          ]
        }
      ]
    }
  ]
}
