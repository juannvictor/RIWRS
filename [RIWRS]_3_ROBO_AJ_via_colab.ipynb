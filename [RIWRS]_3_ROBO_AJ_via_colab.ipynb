{
  "nbformat": 4,
  "nbformat_minor": 0,
  "metadata": {
    "colab": {
      "provenance": [],
      "authorship_tag": "ABX9TyPg/ztrnzGKlpLvn8FtcdUr",
      "include_colab_link": true
    },
    "kernelspec": {
      "name": "python3",
      "display_name": "Python 3"
    },
    "language_info": {
      "name": "python"
    }
  },
  "cells": [
    {
      "cell_type": "markdown",
      "metadata": {
        "id": "view-in-github",
        "colab_type": "text"
      },
      "source": [
        "<a href=\"https://colab.research.google.com/github/lucianomcsilva/RIWRS/blob/main/%5BRIWRS%5D_3_ROBO_AJ_via_colab.ipynb\" target=\"_parent\"><img src=\"https://colab.research.google.com/assets/colab-badge.svg\" alt=\"Open In Colab\"/></a>"
      ]
    },
    {
      "cell_type": "markdown",
      "source": [
        "# Configurando o Scrapy\n"
      ],
      "metadata": {
        "id": "JIYUhscw74vS"
      }
    },
    {
      "cell_type": "code",
      "execution_count": 36,
      "metadata": {
        "id": "idj3qVrr7jQl"
      },
      "outputs": [],
      "source": [
        "# Instalando bibliotecas\n",
        "try:\n",
        "    import scrapy\n",
        "    from crochet import setup, wait_for\n",
        "except:\n",
        "    !pip install scrapy\n",
        "    !pip install crochet\n",
        "    import scrapy\n",
        "    from scrapy.crawler import CrawlerRunner\n",
        "    from crochet import setup, wait_for"
      ]
    },
    {
      "cell_type": "code",
      "source": [
        "# text cleaning\n",
        "import re\n",
        "import logging\n",
        "# Reactor restart\n",
        "setup()"
      ],
      "metadata": {
        "id": "kildW00o74Rc"
      },
      "execution_count": 37,
      "outputs": []
    },
    {
      "cell_type": "markdown",
      "source": [
        "# Montando a Aranha"
      ],
      "metadata": {
        "id": "Ozam3wib7_Pt"
      }
    },
    {
      "cell_type": "code",
      "source": [
        "class SpiderAj2Spider(scrapy.Spider):\n",
        "    name = \"spider_aj\"\n",
        "    delimiter = ';'\n",
        "    \n",
        "    # abre o arquivo local, com todos os links\n",
        "    # start_urls = [f\"{pathlib.Path(os.path.abspath('arnaldo_jabor.html')).as_uri()}\"]\n",
        "    start_urls = [\"https://raw.githubusercontent.com/lucianomcsilva/robo_aj/master/arnaldo_jabor.html\"]\n",
        "    \n",
        "    custom_settings = {\n",
        "        'LOG_LEVEL': 'DEBUG',\n",
        "        # 'FEED_URI': 'robo_aj.csv',                       # Used for pipeline     \n",
        "        # 'FEED_FORMAT':'csv',                            # Used for pipeline\n",
        "        'FEEDS': {\n",
        "            'robo_aj.csv': {\n",
        "                'format': 'csv',\n",
        "                'overwrite': True\n",
        "            }\n",
        "        },                \n",
        "        'USER_AGENT': 'Mozilla/5.0 (Windows NT 10.0; Win64; x64) AppleWebKit/537.36 (KHTML, like Gecko) Chrome/102.0.0.0 Safari/537.36'\n",
        "    }\n",
        "    \n",
        "    # # Apaga o arquivo caso exista, para evitar sobreposição\n",
        "    # if os.path.exists(\"artigos_aj.csv\"):\n",
        "    #     os.remove(\"artigos_aj.csv\")\n",
        "\n",
        "    # função que interpreta o documento que lista os artigos\n",
        "    def parse(self, response):           \n",
        "        for link in response.css(\".item-ultimas\").css(\"h2\").css(\"a::attr(href)\").getall():\n",
        "            text_page = f\"https://www.otempo.com.br/{link}\"\n",
        "            print(text_page)\n",
        "            yield scrapy.Request(text_page, callback=self.parse_text)\n",
        "\n",
        "    # função que interpreta os documentos com os textos \n",
        "    def parse_text(self, response):\n",
        "        content = \"\"   \n",
        "        #Atualizando para novo leiaute do site o tempo\n",
        "        for line in response.css('#text-content p::text').getall() :\n",
        "            content = content + \"\".join(line.strip()) + \"\\n\"\n",
        "            \n",
        "        post = {\n",
        "            'author': 'Arnaldo Jabor',\n",
        "            'title': response.css('h1::text').get().strip().encode('utf-8'),   #Use strip para evitar novas lihas no titulo\n",
        "            'content': content.encode('utf-8')\n",
        "        }\n",
        "        #yield {'author': 'Arnaldo Jabor',}\n",
        "        yield post\n",
        "        \n",
        "        # with open('artigos_aj.csv', 'a', newline='', encoding=\"utf-8\")  as output_file:\n",
        "        #      dict_writer = csv.DictWriter(output_file, post.keys())            \n",
        "        #      dict_writer.writerows([post])        \n",
        "        # yield post"
      ],
      "metadata": {
        "id": "A0UrSq758CPS"
      },
      "execution_count": 38,
      "outputs": []
    },
    {
      "cell_type": "markdown",
      "source": [
        "# Executando o Crawler"
      ],
      "metadata": {
        "id": "91eH9wgy8jGw"
      }
    },
    {
      "cell_type": "code",
      "source": [
        "@wait_for(10)\n",
        "def run_spider():\n",
        "  setup()\n",
        "  crawler = CrawlerRunner()\n",
        "  crawler.crawl(SpiderAj2Spider)\n"
      ],
      "metadata": {
        "id": "EIgVwCBU8l11"
      },
      "execution_count": 39,
      "outputs": []
    },
    {
      "cell_type": "code",
      "source": [
        "run_spider()"
      ],
      "metadata": {
        "colab": {
          "base_uri": "https://localhost:8080/"
        },
        "id": "1EkOIfmJB885",
        "outputId": "ce8b115b-3904-4356-dc94-45024befedbe"
      },
      "execution_count": 40,
      "outputs": [
        {
          "output_type": "stream",
          "name": "stderr",
          "text": [
            "WARNING:twisted:/usr/local/lib/python3.8/dist-packages/scrapy/utils/request.py:232: scrapy.exceptions.ScrapyDeprecationWarning: '2.6' is a deprecated value for the 'REQUEST_FINGERPRINTER_IMPLEMENTATION' setting.\n",
            "\n",
            "It is also the default value. In other words, it is normal to get this warning if you have not defined a value for the 'REQUEST_FINGERPRINTER_IMPLEMENTATION' setting. This is so for backward compatibility reasons, but it will change in a future version of Scrapy.\n",
            "\n",
            "See the documentation of the 'REQUEST_FINGERPRINTER_IMPLEMENTATION' setting for information on how to handle this deprecation.\n"
          ]
        }
      ]
    },
    {
      "cell_type": "markdown",
      "source": [
        "# Carrega e mostra no Pandas"
      ],
      "metadata": {
        "id": "TOS75aZbBFXK"
      }
    },
    {
      "cell_type": "code",
      "source": [
        "import pandas as pd\n",
        "\n",
        "df = pd.read_csv(\"robo_aj.csv\")\n",
        "df"
      ],
      "metadata": {
        "colab": {
          "base_uri": "https://localhost:8080/",
          "height": 423
        },
        "id": "WSmkJpC-A-cd",
        "outputId": "cfa1e1df-931f-4a19-c9a3-1bf4f3b5673c"
      },
      "execution_count": 43,
      "outputs": [
        {
          "output_type": "execute_result",
          "data": {
            "text/plain": [
              "            author                                  title  \\\n",
              "0    Arnaldo Jabor                 O militante imaginário   \n",
              "1    Arnaldo Jabor                    A volta da caretice   \n",
              "2    Arnaldo Jabor                Entrevista comigo mesmo   \n",
              "3    Arnaldo Jabor            O exército do 'Fora, Temer'   \n",
              "4    Arnaldo Jabor                           Rio e terror   \n",
              "..             ...                                    ...   \n",
              "137  Arnaldo Jabor          Nossa vida será um videogame?   \n",
              "138  Arnaldo Jabor            O mistério do gambá gigante   \n",
              "139  Arnaldo Jabor  A miséria já teve uma \"função social\"   \n",
              "140  Arnaldo Jabor                    Os grandes arrepios   \n",
              "141  Arnaldo Jabor    \"O povo pensa que dossiê é um doce\"   \n",
              "\n",
              "                                               content  \n",
              "0    O que é o “militante imaginário”? O filósofo J...  \n",
              "1    Fala-se muito em esquerda e direita, mas nos e...  \n",
              "2    Oi, Arnaldo, tudo bem?\\n– Tudo bem, Arnaldo......  \n",
              "3    Eu também quero ser feliz. Fico com inveja dos...  \n",
              "4    Venho por esta colocar minha colher na sopa de...  \n",
              "..                                                 ...  \n",
              "137  era jovem, feliz, perto do selvagem coração da...  \n",
              "138  Há seis anos, escrevi um artigo que repito, em...  \n",
              "139  Falar da miséria nos alivia porque para nós, o...  \n",
              "140  Hoje começa o circo da propaganda eleitoral, o...  \n",
              "141  Não me esqueço de um ataque de riso, muitos an...  \n",
              "\n",
              "[142 rows x 3 columns]"
            ],
            "text/html": [
              "\n",
              "  <div id=\"df-b99454ee-5e33-446e-80a7-15145cecf714\">\n",
              "    <div class=\"colab-df-container\">\n",
              "      <div>\n",
              "<style scoped>\n",
              "    .dataframe tbody tr th:only-of-type {\n",
              "        vertical-align: middle;\n",
              "    }\n",
              "\n",
              "    .dataframe tbody tr th {\n",
              "        vertical-align: top;\n",
              "    }\n",
              "\n",
              "    .dataframe thead th {\n",
              "        text-align: right;\n",
              "    }\n",
              "</style>\n",
              "<table border=\"1\" class=\"dataframe\">\n",
              "  <thead>\n",
              "    <tr style=\"text-align: right;\">\n",
              "      <th></th>\n",
              "      <th>author</th>\n",
              "      <th>title</th>\n",
              "      <th>content</th>\n",
              "    </tr>\n",
              "  </thead>\n",
              "  <tbody>\n",
              "    <tr>\n",
              "      <th>0</th>\n",
              "      <td>Arnaldo Jabor</td>\n",
              "      <td>O militante imaginário</td>\n",
              "      <td>O que é o “militante imaginário”? O filósofo J...</td>\n",
              "    </tr>\n",
              "    <tr>\n",
              "      <th>1</th>\n",
              "      <td>Arnaldo Jabor</td>\n",
              "      <td>A volta da caretice</td>\n",
              "      <td>Fala-se muito em esquerda e direita, mas nos e...</td>\n",
              "    </tr>\n",
              "    <tr>\n",
              "      <th>2</th>\n",
              "      <td>Arnaldo Jabor</td>\n",
              "      <td>Entrevista comigo mesmo</td>\n",
              "      <td>Oi, Arnaldo, tudo bem?\\n– Tudo bem, Arnaldo......</td>\n",
              "    </tr>\n",
              "    <tr>\n",
              "      <th>3</th>\n",
              "      <td>Arnaldo Jabor</td>\n",
              "      <td>O exército do 'Fora, Temer'</td>\n",
              "      <td>Eu também quero ser feliz. Fico com inveja dos...</td>\n",
              "    </tr>\n",
              "    <tr>\n",
              "      <th>4</th>\n",
              "      <td>Arnaldo Jabor</td>\n",
              "      <td>Rio e terror</td>\n",
              "      <td>Venho por esta colocar minha colher na sopa de...</td>\n",
              "    </tr>\n",
              "    <tr>\n",
              "      <th>...</th>\n",
              "      <td>...</td>\n",
              "      <td>...</td>\n",
              "      <td>...</td>\n",
              "    </tr>\n",
              "    <tr>\n",
              "      <th>137</th>\n",
              "      <td>Arnaldo Jabor</td>\n",
              "      <td>Nossa vida será um videogame?</td>\n",
              "      <td>era jovem, feliz, perto do selvagem coração da...</td>\n",
              "    </tr>\n",
              "    <tr>\n",
              "      <th>138</th>\n",
              "      <td>Arnaldo Jabor</td>\n",
              "      <td>O mistério do gambá gigante</td>\n",
              "      <td>Há seis anos, escrevi um artigo que repito, em...</td>\n",
              "    </tr>\n",
              "    <tr>\n",
              "      <th>139</th>\n",
              "      <td>Arnaldo Jabor</td>\n",
              "      <td>A miséria já teve uma \"função social\"</td>\n",
              "      <td>Falar da miséria nos alivia porque para nós, o...</td>\n",
              "    </tr>\n",
              "    <tr>\n",
              "      <th>140</th>\n",
              "      <td>Arnaldo Jabor</td>\n",
              "      <td>Os grandes arrepios</td>\n",
              "      <td>Hoje começa o circo da propaganda eleitoral, o...</td>\n",
              "    </tr>\n",
              "    <tr>\n",
              "      <th>141</th>\n",
              "      <td>Arnaldo Jabor</td>\n",
              "      <td>\"O povo pensa que dossiê é um doce\"</td>\n",
              "      <td>Não me esqueço de um ataque de riso, muitos an...</td>\n",
              "    </tr>\n",
              "  </tbody>\n",
              "</table>\n",
              "<p>142 rows × 3 columns</p>\n",
              "</div>\n",
              "      <button class=\"colab-df-convert\" onclick=\"convertToInteractive('df-b99454ee-5e33-446e-80a7-15145cecf714')\"\n",
              "              title=\"Convert this dataframe to an interactive table.\"\n",
              "              style=\"display:none;\">\n",
              "        \n",
              "  <svg xmlns=\"http://www.w3.org/2000/svg\" height=\"24px\"viewBox=\"0 0 24 24\"\n",
              "       width=\"24px\">\n",
              "    <path d=\"M0 0h24v24H0V0z\" fill=\"none\"/>\n",
              "    <path d=\"M18.56 5.44l.94 2.06.94-2.06 2.06-.94-2.06-.94-.94-2.06-.94 2.06-2.06.94zm-11 1L8.5 8.5l.94-2.06 2.06-.94-2.06-.94L8.5 2.5l-.94 2.06-2.06.94zm10 10l.94 2.06.94-2.06 2.06-.94-2.06-.94-.94-2.06-.94 2.06-2.06.94z\"/><path d=\"M17.41 7.96l-1.37-1.37c-.4-.4-.92-.59-1.43-.59-.52 0-1.04.2-1.43.59L10.3 9.45l-7.72 7.72c-.78.78-.78 2.05 0 2.83L4 21.41c.39.39.9.59 1.41.59.51 0 1.02-.2 1.41-.59l7.78-7.78 2.81-2.81c.8-.78.8-2.07 0-2.86zM5.41 20L4 18.59l7.72-7.72 1.47 1.35L5.41 20z\"/>\n",
              "  </svg>\n",
              "      </button>\n",
              "      \n",
              "  <style>\n",
              "    .colab-df-container {\n",
              "      display:flex;\n",
              "      flex-wrap:wrap;\n",
              "      gap: 12px;\n",
              "    }\n",
              "\n",
              "    .colab-df-convert {\n",
              "      background-color: #E8F0FE;\n",
              "      border: none;\n",
              "      border-radius: 50%;\n",
              "      cursor: pointer;\n",
              "      display: none;\n",
              "      fill: #1967D2;\n",
              "      height: 32px;\n",
              "      padding: 0 0 0 0;\n",
              "      width: 32px;\n",
              "    }\n",
              "\n",
              "    .colab-df-convert:hover {\n",
              "      background-color: #E2EBFA;\n",
              "      box-shadow: 0px 1px 2px rgba(60, 64, 67, 0.3), 0px 1px 3px 1px rgba(60, 64, 67, 0.15);\n",
              "      fill: #174EA6;\n",
              "    }\n",
              "\n",
              "    [theme=dark] .colab-df-convert {\n",
              "      background-color: #3B4455;\n",
              "      fill: #D2E3FC;\n",
              "    }\n",
              "\n",
              "    [theme=dark] .colab-df-convert:hover {\n",
              "      background-color: #434B5C;\n",
              "      box-shadow: 0px 1px 3px 1px rgba(0, 0, 0, 0.15);\n",
              "      filter: drop-shadow(0px 1px 2px rgba(0, 0, 0, 0.3));\n",
              "      fill: #FFFFFF;\n",
              "    }\n",
              "  </style>\n",
              "\n",
              "      <script>\n",
              "        const buttonEl =\n",
              "          document.querySelector('#df-b99454ee-5e33-446e-80a7-15145cecf714 button.colab-df-convert');\n",
              "        buttonEl.style.display =\n",
              "          google.colab.kernel.accessAllowed ? 'block' : 'none';\n",
              "\n",
              "        async function convertToInteractive(key) {\n",
              "          const element = document.querySelector('#df-b99454ee-5e33-446e-80a7-15145cecf714');\n",
              "          const dataTable =\n",
              "            await google.colab.kernel.invokeFunction('convertToInteractive',\n",
              "                                                     [key], {});\n",
              "          if (!dataTable) return;\n",
              "\n",
              "          const docLinkHtml = 'Like what you see? Visit the ' +\n",
              "            '<a target=\"_blank\" href=https://colab.research.google.com/notebooks/data_table.ipynb>data table notebook</a>'\n",
              "            + ' to learn more about interactive tables.';\n",
              "          element.innerHTML = '';\n",
              "          dataTable['output_type'] = 'display_data';\n",
              "          await google.colab.output.renderOutput(dataTable, element);\n",
              "          const docLink = document.createElement('div');\n",
              "          docLink.innerHTML = docLinkHtml;\n",
              "          element.appendChild(docLink);\n",
              "        }\n",
              "      </script>\n",
              "    </div>\n",
              "  </div>\n",
              "  "
            ]
          },
          "metadata": {},
          "execution_count": 43
        }
      ]
    }
  ]
}